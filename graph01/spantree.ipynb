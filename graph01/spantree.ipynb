{
 "cells": [
  {
   "cell_type": "code",
   "execution_count": null,
   "metadata": {},
   "outputs": [],
   "source": [
    "import matplotlib.pyplot as plt\n",
    "import scipy\n",
    "import pandas\n",
    "import numpy as np\n",
    "import networkx as nx\n",
    "import pygraphviz as pgv\n",
    "from IPython.display import SVG, display"
   ]
  },
  {
   "cell_type": "code",
   "execution_count": null,
   "metadata": {},
   "outputs": [],
   "source": [
    "x = np.linspace(0, 10, 100)\n",
    "y = x + np.random.randn(100)\n"
   ]
  },
  {
   "cell_type": "code",
   "execution_count": null,
   "metadata": {},
   "outputs": [],
   "source": [
    "plt.plot(x, y, label=\"test\")\n",
    "plt.legend()\n",
    "plt.show()\n"
   ]
  },
  {
   "cell_type": "code",
   "execution_count": null,
   "metadata": {},
   "outputs": [],
   "source": [
    "Graph = nx.DiGraph()\n",
    "Graph.add_node('foo')\n",
    "Graph.add_node('bar')\n"
   ]
  },
  {
   "cell_type": "code",
   "execution_count": null,
   "metadata": {},
   "outputs": [],
   "source": [
    "Graph.nodes()"
   ]
  },
  {
   "cell_type": "code",
   "execution_count": null,
   "metadata": {},
   "outputs": [],
   "source": [
    "Graph.nodes(data=False)"
   ]
  },
  {
   "cell_type": "code",
   "execution_count": null,
   "metadata": {},
   "outputs": [],
   "source": [
    "Graph.nodes(data=True)"
   ]
  },
  {
   "cell_type": "code",
   "execution_count": null,
   "metadata": {},
   "outputs": [],
   "source": [
    "Graph.add_nodes_from(['baz', 'cook', 'spawn'])"
   ]
  },
  {
   "cell_type": "code",
   "execution_count": null,
   "metadata": {},
   "outputs": [],
   "source": [
    "Graph.nodes(data=True)"
   ]
  },
  {
   "cell_type": "code",
   "execution_count": null,
   "metadata": {},
   "outputs": [],
   "source": [
    "Graph.add_node('foo', color='green')"
   ]
  },
  {
   "cell_type": "code",
   "execution_count": null,
   "metadata": {},
   "outputs": [],
   "source": [
    "Graph.add_node('baz', colot='lightblue')"
   ]
  },
  {
   "cell_type": "code",
   "execution_count": null,
   "metadata": {},
   "outputs": [],
   "source": [
    "Graph.remove_node('baz')"
   ]
  },
  {
   "cell_type": "code",
   "execution_count": null,
   "metadata": {},
   "outputs": [],
   "source": [
    "Graph.add_node('baz', color='lightblue')"
   ]
  },
  {
   "cell_type": "code",
   "execution_count": null,
   "metadata": {},
   "outputs": [],
   "source": [
    "Graph.add_edge('foo','baz')\n",
    "Graph.add_edge('foo','bar')"
   ]
  },
  {
   "cell_type": "code",
   "execution_count": null,
   "metadata": {},
   "outputs": [],
   "source": [
    "Graph.add_edge('bar', 'cook')\n",
    "Graph.add_edge('spawn', 'baz')"
   ]
  },
  {
   "cell_type": "code",
   "execution_count": null,
   "metadata": {},
   "outputs": [],
   "source": [
    "Graph.edges()"
   ]
  },
  {
   "cell_type": "code",
   "execution_count": null,
   "metadata": {},
   "outputs": [],
   "source": [
    "Graph.add_edge('spawn', 'cook', weight=0.7)\n",
    "Graph.add_edge('baz', 'cook', weight=0.5)"
   ]
  },
  {
   "cell_type": "code",
   "execution_count": null,
   "metadata": {},
   "outputs": [],
   "source": [
    "Graph.edges(data=True)"
   ]
  },
  {
   "cell_type": "code",
   "execution_count": null,
   "metadata": {},
   "outputs": [],
   "source": [
    "Graph.clear()\n",
    "Graph.nodes()\n",
    "Graph.edges()"
   ]
  },
  {
   "cell_type": "code",
   "execution_count": null,
   "metadata": {},
   "outputs": [],
   "source": [
    "Graph.nodes()"
   ]
  },
  {
   "cell_type": "code",
   "execution_count": null,
   "metadata": {},
   "outputs": [],
   "source": [
    "Graph.add_nodes_from(['a','b','c','d'])\n",
    "Graph.add_edges_from([('a','b'),('a','c'),('a','d'),('b','c'),('b','d'),('d','c')])\n",
    "print('all paths')\n",
    "for path in nx.all_simple_paths(Graph, source='a', target='c'):\n",
    "    print(path)"
   ]
  },
  {
   "cell_type": "code",
   "execution_count": null,
   "metadata": {},
   "outputs": [],
   "source": [
    "nx.draw_networkx(Graph)\n",
    "plt.show()"
   ]
  },
  {
   "cell_type": "code",
   "execution_count": null,
   "metadata": {},
   "outputs": [],
   "source": [
    "Graph.clear()"
   ]
  },
  {
   "cell_type": "code",
   "execution_count": null,
   "metadata": {},
   "outputs": [],
   "source": [
    "Graph.add_path([3, 5, 4, 1, 0, 2, 7, 8, 9, 6])\n",
    "Graph.add_path([3, 0, 6, 4, 2, 7, 1, 9, 8, 5])"
   ]
  },
  {
   "cell_type": "code",
   "execution_count": null,
   "metadata": {},
   "outputs": [],
   "source": [
    "nx.nx_agraph.view_pygraphviz(Graph, prog='fdp')"
   ]
  },
  {
   "cell_type": "code",
   "execution_count": null,
   "metadata": {},
   "outputs": [],
   "source": [
    "Graph = nx.DiGraph()"
   ]
  },
  {
   "cell_type": "code",
   "execution_count": null,
   "metadata": {},
   "outputs": [],
   "source": [
    "Graph.add_path([3, 5, 4, 1, 0, 2, 7, 8, 9, 6])\n",
    "Graph.add_path([3, 0, 6, 4, 2, 7, 1, 9, 8, 5])"
   ]
  },
  {
   "cell_type": "code",
   "execution_count": null,
   "metadata": {},
   "outputs": [],
   "source": [
    "nx.nx_agraph.view_pygraphviz(Graph, prog='fdp')"
   ]
  },
  {
   "cell_type": "code",
   "execution_count": null,
   "metadata": {},
   "outputs": [],
   "source": [
    "svg = SVG(nx.nx_agraph.to_agraph(Graph).draw(prog='fdp', format='svg'))\n",
    "display(svg)"
   ]
  },
  {
   "cell_type": "code",
   "execution_count": null,
   "metadata": {},
   "outputs": [],
   "source": [
    "print(list(Graph.nodes))"
   ]
  },
  {
   "cell_type": "code",
   "execution_count": null,
   "metadata": {},
   "outputs": [],
   "source": [
    "print(list(Graph.edges))"
   ]
  },
  {
   "cell_type": "code",
   "execution_count": null,
   "metadata": {},
   "outputs": [],
   "source": [
    "print(list(Graph.succ[0]), Graph.out_edges(0))"
   ]
  },
  {
   "cell_type": "code",
   "execution_count": null,
   "metadata": {},
   "outputs": [],
   "source": [
    "print(list(Graph.pred[0]), Graph.in_edges(0))"
   ]
  },
  {
   "cell_type": "code",
   "execution_count": null,
   "metadata": {},
   "outputs": [],
   "source": [
    "print(Graph.degree(0), list(nx.all_neighbors(Graph, 0)))"
   ]
  },
  {
   "cell_type": "code",
   "execution_count": null,
   "metadata": {},
   "outputs": [],
   "source": [
    "Graph.clear()"
   ]
  },
  {
   "cell_type": "code",
   "execution_count": null,
   "metadata": {},
   "outputs": [],
   "source": [
    "Graph.add_nodes_from(['1', '2', '3', '3', '4', '5', '6', '7', '8', '9', '10', '11', '12', '13'])\n",
    "Graph.add_edge( '1',  '2', weight=2)\n",
    "Graph.add_edge( '1',  '3', weight=5)\n",
    "Graph.add_edge( '1',  '4', weight=1)\n",
    "Graph.add_edge( '1',  '7', weight=4)\n",
    "Graph.add_edge( '2',  '3', weight=2)\n",
    "Graph.add_edge( '2',  '7', weight=2)\n",
    "Graph.add_edge( '3',  '4', weight=3)\n",
    "Graph.add_edge( '4',  '5', weight=6)\n",
    "Graph.add_edge( '5',  '6', weight=1)\n",
    "Graph.add_edge( '5',  '8', weight=8)\n",
    "Graph.add_edge( '5', '11', weight=8)\n",
    "Graph.add_edge( '6',  '8', weight=4)\n",
    "Graph.add_edge( '7',  '8', weight=9)\n",
    "Graph.add_edge( '7',  '9', weight=8)\n",
    "Graph.add_edge( '8',  '9', weight=2)\n",
    "Graph.add_edge( '8', '10', weight=4)\n",
    "Graph.add_edge( '8', '11', weight=8)\n",
    "Graph.add_edge( '9', '13', weight=5)\n",
    "Graph.add_edge('10', '12', weight=1)\n",
    "Graph.add_edge('10', '13', weight=3)\n",
    "Graph.add_edge('11', '12', weight=4)\n",
    "Graph.add_edge('12', '13', weight=5)\n"
   ]
  },
  {
   "cell_type": "code",
   "execution_count": null,
   "metadata": {},
   "outputs": [],
   "source": [
    "svg = SVG(nx.nx_agraph.to_agraph(Graph).draw(prog='fdp', format='svg'))\n",
    "display(svg)"
   ]
  },
  {
   "cell_type": "code",
   "execution_count": null,
   "metadata": {},
   "outputs": [],
   "source": [
    "Graph.clear()"
   ]
  },
  {
   "cell_type": "code",
   "execution_count": null,
   "metadata": {},
   "outputs": [],
   "source": [
    "Graph.add_nodes_from(range(1,13))\n",
    "Graph.add_edge( 1,  2, weight=2)\n",
    "Graph.add_edge( 1,  3, weight=5)\n",
    "Graph.add_edge( 1,  4, weight=1)\n",
    "Graph.add_edge( 1,  6, weight=7)\n",
    "Graph.add_edge( 1,  7, weight=4)\n",
    "Graph.add_edge( 2,  3, weight=2)\n",
    "Graph.add_edge( 2,  7, weight=2)\n",
    "Graph.add_edge( 3,  4, weight=3)\n",
    "Graph.add_edge( 4,  5, weight=6)\n",
    "Graph.add_edge( 5,  6, weight=1)\n",
    "Graph.add_edge( 5,  8, weight=8)\n",
    "Graph.add_edge( 5, 11, weight=8)\n",
    "Graph.add_edge( 6,  8, weight=4)\n",
    "Graph.add_edge( 7,  8, weight=9)\n",
    "Graph.add_edge( 7,  9, weight=8)\n",
    "Graph.add_edge( 8,  9, weight=2)\n",
    "Graph.add_edge( 8, 10, weight=4)\n",
    "Graph.add_edge( 8, 11, weight=8)\n",
    "Graph.add_edge( 9, 13, weight=5)\n",
    "Graph.add_edge(10, 12, weight=1)\n",
    "Graph.add_edge(10, 13, weight=3)\n",
    "Graph.add_edge(11, 12, weight=4)\n",
    "Graph.add_edge(12, 13, weight=5)\n"
   ]
  },
  {
   "cell_type": "code",
   "execution_count": null,
   "metadata": {},
   "outputs": [],
   "source": [
    "for u,v,d in Graph.edges(data=True):\n",
    "    d['label'] = d.get('weight','')\n",
    "\n",
    "A = nx.nx_agraph.to_agraph(Graph)\n",
    "# A.layout(prog='dot')\n",
    "svg = SVG(A.draw(prog='fdp', format='svg'))\n",
    "display(svg)\n"
   ]
  },
  {
   "cell_type": "code",
   "execution_count": null,
   "metadata": {},
   "outputs": [],
   "source": [
    "Graph = nx.Graph()"
   ]
  },
  {
   "cell_type": "code",
   "execution_count": null,
   "metadata": {},
   "outputs": [],
   "source": [
    "start_node = 2\n",
    "from_node = start_node\n"
   ]
  },
  {
   "cell_type": "code",
   "execution_count": null,
   "metadata": {},
   "outputs": [],
   "source": [
    "print(list(Graph.edges()))"
   ]
  },
  {
   "cell_type": "code",
   "execution_count": null,
   "metadata": {},
   "outputs": [],
   "source": [
    "print(list(Graph.neighbors(from_node)))"
   ]
  },
  {
   "cell_type": "code",
   "execution_count": null,
   "metadata": {},
   "outputs": [],
   "source": [
    "for to_node in list(Graph.neighbors(from_node)):\n",
    "\tprint(from_node, to_node, Graph[from_node][to_node]['weight'])\n"
   ]
  },
  {
   "cell_type": "code",
   "execution_count": null,
   "metadata": {},
   "outputs": [],
   "source": [
    "start_node = 2\n",
    "\n",
    "all_nodes = list(Graph.nodes)\n",
    "connected_nodes = []\n",
    "connected_edges = []\n",
    "\n",
    "connected_nodes.append(start_node)\n",
    "while len(connected_nodes) < len(all_nodes):\n",
    "    min_weight = 9999999999\n",
    "    min_edge = None\n",
    "\n",
    "    for from_node in connected_nodes:\n",
    "        for to_node in list(Graph.neighbors(from_node)):\n",
    "            if to_node not in connected_nodes:\n",
    "                w = Graph[from_node][to_node]['weight']\n",
    "                print('({0},{1}):{2}'.format(from_node, to_node, w))\n",
    "                if w < min_weight:\n",
    "                    min_weight = w\n",
    "                    min_edge = [from_node, to_node]\n",
    "\n",
    "    print('min: ({0}):{1}'.format(min_edge, min_weight))\n",
    "    if min_edge == None:\n",
    "        print('ERROR: Node {0} is closed.'.format(from_node))\n",
    "        break\n",
    "    connected_nodes.append(min_edge[1])\n",
    "    connected_edges.append(min_edge)\n",
    "\n",
    "print('-- minimum spanning tree --')\n",
    "print(connected_edges)"
   ]
  },
  {
   "cell_type": "code",
   "execution_count": null,
   "metadata": {},
   "outputs": [],
   "source": [
    "start_node = 2\n",
    "\n",
    "all_nodes = list(Graph.nodes)\n",
    "connected_nodes = []\n",
    "connected_edges = []\n",
    "\n",
    "adopt_edges = []\n",
    "temp_edges = {i+1: [-1, i+1, 9999999999] for i in range(len(all_nodes))}\n",
    "#print('0:temp {0}'.format(temp_edges))\n",
    "\n",
    "start_node = 2\n",
    "del temp_edges[start_node]\n",
    "#print('1:temp {0}'.format(temp_edges))\n",
    "\n",
    "from_node = start_node\n",
    "while len(temp_edges) > 0:\n",
    "    print('-- {0} --'.format(from_node))\n",
    "    for to_node in list(Graph.neighbors(from_node)):\n",
    "        if temp_edges[to_node] == None:\n",
    "            continue\n",
    "        print('  {0}: {1}'.format(to_node, temp_edges[to_node]))\n",
    "        w = Graph[from_node][to_node]['weight']\n",
    "        if temp_edges[to_node][2] > w:\n",
    "            temp_edges[to_node] = [from_node, to_node, w]\n",
    "    print('2:temp {0}'.format(temp_edges))\n",
    "\n",
    "\n",
    "    min_weight = 9999999999\n",
    "    min_edge = None\n",
    "    for x in temp_edges.values():\n",
    "        print(x)\n",
    "        if x[2] < min_weight:\n",
    "            min_edge = x\n",
    "    print('MIN: {0}'.format(min_edge))\n",
    "    from_node = min_edge[1]\n",
    "    del temp_edges[from_node]\n",
    "    print('3:temp {0}'.format(temp_edges))\n",
    "\n",
    "\n",
    "\n",
    "print('-- minimum spanning tree --')\n",
    "print(connected_edges)"
   ]
  },
  {
   "cell_type": "code",
   "execution_count": null,
   "metadata": {},
   "outputs": [],
   "source": []
  }
 ],
 "metadata": {
  "kernelspec": {
   "display_name": "Python 3",
   "language": "python",
   "name": "python3"
  },
  "language_info": {
   "codemirror_mode": {
    "name": "ipython",
    "version": 3
   },
   "file_extension": ".py",
   "mimetype": "text/x-python",
   "name": "python",
   "nbconvert_exporter": "python",
   "pygments_lexer": "ipython3",
   "version": "3.7.1"
  }
 },
 "nbformat": 4,
 "nbformat_minor": 2
}
